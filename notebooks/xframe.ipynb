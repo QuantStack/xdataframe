{
 "cells": [
  {
   "cell_type": "markdown",
   "metadata": {},
   "source": [
    "![xframe](images/xframe.png)"
   ]
  },
  {
   "cell_type": "markdown",
   "metadata": {},
   "source": [
    "<center> <h1>xframe is a dataframe for C++, based on xtensor and xtl</h1> </center>"
   ]
  },
  {
   "cell_type": "code",
   "execution_count": 1,
   "metadata": {},
   "outputs": [],
   "source": [
    "#include <string>\n",
    "#include <iostream>\n",
    "\n",
    "#include \"xtl/xbasic_fixed_string.hpp\"\n",
    "\n",
    "#include \"xtensor/xio.hpp\"\n",
    "#include \"xtensor/xrandom.hpp\"\n",
    "#include \"xtensor/xmath.hpp\"\n",
    "\n",
    "#include \"xframe/xvariable.hpp\"\n",
    "#include \"xframe/xvariable_view.hpp\"\n",
    "#include \"xframe/xvariable_masked_view.hpp\"\n",
    "#include \"xframe/xio.hpp\""
   ]
  },
  {
   "cell_type": "code",
   "execution_count": 2,
   "metadata": {},
   "outputs": [],
   "source": [
    "using fstring = xtl::xfixed_string<55>;\n",
    "\n",
    "using data_type = xt::xoptional_assembly<xt::xarray<double>, xt::xarray<bool>>;\n",
    "using coordinate_type = xf::xcoordinate<fstring, data_type::size_type>;\n",
    "\n",
    "using variable_type = xf::xvariable<coordinate_type, data_type>;"
   ]
  },
  {
   "cell_type": "markdown",
   "metadata": {},
   "source": [
    "## Variable with 2D Data "
   ]
  },
  {
   "cell_type": "code",
   "execution_count": 3,
   "metadata": {},
   "outputs": [],
   "source": [
    "data_type temperature_data = xt::abs(xt::random::randn<double>({6, 3})) * 10;\n",
    "temperature_data(0, 0).has_value() = false;\n",
    "temperature_data(2, 1).has_value() = false;"
   ]
  },
  {
   "cell_type": "code",
   "execution_count": 4,
   "metadata": {},
   "outputs": [
    {
     "data": {
      "text/html": [
       "<table style='border-style:solid;border-width:1px;'><tbody><tr><td style='font-family:monospace;' title='(0, 0)'><pre>     N/A</pre></td><td style='font-family:monospace;' title='(0, 1)'><pre> 1.46382</pre></td><td style='font-family:monospace;' title='(0, 2)'><pre>  4.6065</pre></td></tr><tr><td style='font-family:monospace;' title='(1, 0)'><pre> 18.7138</pre></td><td style='font-family:monospace;' title='(1, 1)'><pre> 1.63712</pre></td><td style='font-family:monospace;' title='(1, 2)'><pre> 2.14253</pre></td></tr><tr><td style='font-family:monospace;' title='(2, 0)'><pre> 2.98595</pre></td><td style='font-family:monospace;' title='(2, 1)'><pre>     N/A</pre></td><td style='font-family:monospace;' title='(2, 2)'><pre>0.102154</pre></td></tr><tr><td style='font-family:monospace;' title='(3, 0)'><pre> 10.5547</pre></td><td style='font-family:monospace;' title='(3, 1)'><pre> 5.46841</pre></td><td style='font-family:monospace;' title='(3, 2)'><pre> 11.7457</pre></td></tr><tr><td style='font-family:monospace;' title='(4, 0)'><pre> 6.60682</pre></td><td style='font-family:monospace;' title='(4, 1)'><pre> 10.4944</pre></td><td style='font-family:monospace;' title='(4, 2)'><pre> 14.8596</pre></td></tr><tr><td style='font-family:monospace;' title='(5, 0)'><pre> 6.25276</pre></td><td style='font-family:monospace;' title='(5, 1)'><pre> 25.5912</pre></td><td style='font-family:monospace;' title='(5, 2)'><pre> 8.29081</pre></td></tr></tbody></table>"
      ]
     },
     "execution_count": 4,
     "metadata": {},
     "output_type": "execute_result"
    }
   ],
   "source": [
    "temperature_data"
   ]
  },
  {
   "cell_type": "code",
   "execution_count": 5,
   "metadata": {},
   "outputs": [],
   "source": [
    "auto time_axis = xf::axis({\"2018-01-01\", \"2018-01-02\", \"2018-01-03\", \"2018-01-04\", \"2018-01-05\", \"2018-01-06\"});"
   ]
  },
  {
   "cell_type": "code",
   "execution_count": 6,
   "metadata": {},
   "outputs": [],
   "source": [
    "auto temperature = variable_type(\n",
    "    temperature_data,\n",
    "    {\n",
    "        {\"date\", time_axis},\n",
    "        {\"city\", xf::axis({\"London\", \"Paris\", \"Brussels\"})}\n",
    "    }\n",
    ");"
   ]
  },
  {
   "cell_type": "code",
   "execution_count": 7,
   "metadata": {},
   "outputs": [
    {
     "data": {
      "text/html": [
       "<table style='border-style:solid;border-width:1px;'><thead><th></th><th title='city'>London</th><th title='city'>Paris</th><th title='city'>Brussels</th></thead><tbody><tr><th style='border-right-style:solid;border-right-width:1px;' title='date'>2018-01-01</th><td style='font-family:monospace;' title='(date: 2018-01-01, city: London)'><pre>     N/A</pre></td><td style='font-family:monospace;' title='(date: 2018-01-01, city: Paris)'><pre> 1.46382</pre></td><td style='font-family:monospace;' title='(date: 2018-01-01, city: Brussels)'><pre>  4.6065</pre></td></tr><tr><th style='border-right-style:solid;border-right-width:1px;' title='date'>2018-01-02</th><td style='font-family:monospace;' title='(date: 2018-01-02, city: London)'><pre> 18.7138</pre></td><td style='font-family:monospace;' title='(date: 2018-01-02, city: Paris)'><pre> 1.63712</pre></td><td style='font-family:monospace;' title='(date: 2018-01-02, city: Brussels)'><pre> 2.14253</pre></td></tr><tr><th style='border-right-style:solid;border-right-width:1px;' title='date'>2018-01-03</th><td style='font-family:monospace;' title='(date: 2018-01-03, city: London)'><pre> 2.98595</pre></td><td style='font-family:monospace;' title='(date: 2018-01-03, city: Paris)'><pre>     N/A</pre></td><td style='font-family:monospace;' title='(date: 2018-01-03, city: Brussels)'><pre>0.102154</pre></td></tr><tr><th style='border-right-style:solid;border-right-width:1px;' title='date'>2018-01-04</th><td style='font-family:monospace;' title='(date: 2018-01-04, city: London)'><pre> 10.5547</pre></td><td style='font-family:monospace;' title='(date: 2018-01-04, city: Paris)'><pre> 5.46841</pre></td><td style='font-family:monospace;' title='(date: 2018-01-04, city: Brussels)'><pre> 11.7457</pre></td></tr><tr><th style='border-right-style:solid;border-right-width:1px;' title='date'>2018-01-05</th><td style='font-family:monospace;' title='(date: 2018-01-05, city: London)'><pre> 6.60682</pre></td><td style='font-family:monospace;' title='(date: 2018-01-05, city: Paris)'><pre> 10.4944</pre></td><td style='font-family:monospace;' title='(date: 2018-01-05, city: Brussels)'><pre> 14.8596</pre></td></tr><tr><th style='border-right-style:solid;border-right-width:1px;' title='date'>2018-01-06</th><td style='font-family:monospace;' title='(date: 2018-01-06, city: London)'><pre> 6.25276</pre></td><td style='font-family:monospace;' title='(date: 2018-01-06, city: Paris)'><pre> 25.5912</pre></td><td style='font-family:monospace;' title='(date: 2018-01-06, city: Brussels)'><pre> 8.29081</pre></td></tr></tbody></table>"
      ]
     },
     "execution_count": 7,
     "metadata": {},
     "output_type": "execute_result"
    }
   ],
   "source": [
    "temperature"
   ]
  },
  {
   "cell_type": "code",
   "execution_count": 8,
   "metadata": {},
   "outputs": [
    {
     "data": {
      "text/plain": [
       "10.5547"
      ]
     },
     "execution_count": 8,
     "metadata": {},
     "output_type": "execute_result"
    }
   ],
   "source": [
    "temperature.select({{\"city\", \"London\"}, {\"date\", \"2018-01-04\"}})"
   ]
  },
  {
   "cell_type": "code",
   "execution_count": 9,
   "metadata": {},
   "outputs": [
    {
     "data": {
      "text/plain": [
       "0.102154"
      ]
     },
     "execution_count": 9,
     "metadata": {},
     "output_type": "execute_result"
    }
   ],
   "source": [
    "temperature.locate(\"2018-01-03\", \"Brussels\")"
   ]
  },
  {
   "cell_type": "code",
   "execution_count": 10,
   "metadata": {},
   "outputs": [
    {
     "data": {
      "text/plain": [
       "N/A"
      ]
     },
     "execution_count": 10,
     "metadata": {},
     "output_type": "execute_result"
    }
   ],
   "source": [
    "temperature.locate(\"2018-01-03\", \"Paris\")"
   ]
  },
  {
   "cell_type": "code",
   "execution_count": 11,
   "metadata": {},
   "outputs": [],
   "source": [
    "data_type wind_factor_data = xt::abs(xt::random::randn<double>({6, 2}));\n",
    "wind_factor_data(2, 0).has_value() = false;"
   ]
  },
  {
   "cell_type": "code",
   "execution_count": 12,
   "metadata": {},
   "outputs": [],
   "source": [
    "auto wind_factor = variable_type(\n",
    "    wind_factor_data, \n",
    "    {\n",
    "        {\"date\", time_axis},\n",
    "        {\"city\", xf::axis({\"Paris\", \"Brussels\"})}\n",
    "    }\n",
    ");"
   ]
  },
  {
   "cell_type": "code",
   "execution_count": 13,
   "metadata": {},
   "outputs": [
    {
     "data": {
      "text/html": [
       "<table style='border-style:solid;border-width:1px;'><thead><th></th><th title='city'>Paris</th><th title='city'>Brussels</th></thead><tbody><tr><th style='border-right-style:solid;border-right-width:1px;' title='date'>2018-01-01</th><td style='font-family:monospace;' title='(date: 2018-01-01, city: Paris)'><pre>0.539781</pre></td><td style='font-family:monospace;' title='(date: 2018-01-01, city: Brussels)'><pre>0.888707</pre></td></tr><tr><th style='border-right-style:solid;border-right-width:1px;' title='date'>2018-01-02</th><td style='font-family:monospace;' title='(date: 2018-01-02, city: Paris)'><pre>0.628956</pre></td><td style='font-family:monospace;' title='(date: 2018-01-02, city: Brussels)'><pre> 1.01922</pre></td></tr><tr><th style='border-right-style:solid;border-right-width:1px;' title='date'>2018-01-03</th><td style='font-family:monospace;' title='(date: 2018-01-03, city: Paris)'><pre>     N/A</pre></td><td style='font-family:monospace;' title='(date: 2018-01-03, city: Brussels)'><pre>0.482589</pre></td></tr><tr><th style='border-right-style:solid;border-right-width:1px;' title='date'>2018-01-04</th><td style='font-family:monospace;' title='(date: 2018-01-04, city: Paris)'><pre> 2.10886</pre></td><td style='font-family:monospace;' title='(date: 2018-01-04, city: Brussels)'><pre>0.121306</pre></td></tr><tr><th style='border-right-style:solid;border-right-width:1px;' title='date'>2018-01-05</th><td style='font-family:monospace;' title='(date: 2018-01-05, city: Paris)'><pre>0.287389</pre></td><td style='font-family:monospace;' title='(date: 2018-01-05, city: Brussels)'><pre>0.371003</pre></td></tr><tr><th style='border-right-style:solid;border-right-width:1px;' title='date'>2018-01-06</th><td style='font-family:monospace;' title='(date: 2018-01-06, city: Paris)'><pre> 1.05935</pre></td><td style='font-family:monospace;' title='(date: 2018-01-06, city: Brussels)'><pre> 2.30144</pre></td></tr></tbody></table>"
      ]
     },
     "execution_count": 13,
     "metadata": {},
     "output_type": "execute_result"
    }
   ],
   "source": [
    "wind_factor"
   ]
  },
  {
   "cell_type": "code",
   "execution_count": 14,
   "metadata": {},
   "outputs": [],
   "source": [
    "variable_type perceived_temperature = temperature * wind_factor;"
   ]
  },
  {
   "cell_type": "code",
   "execution_count": 15,
   "metadata": {},
   "outputs": [
    {
     "data": {
      "text/html": [
       "<table style='border-style:solid;border-width:1px;'><thead><th></th><th title='city'>Paris</th><th title='city'>Brussels</th></thead><tbody><tr><th style='border-right-style:solid;border-right-width:1px;' title='date'>2018-01-01</th><td style='font-family:monospace;' title='(date: 2018-01-01, city: Paris)'><pre>  0.79014</pre></td><td style='font-family:monospace;' title='(date: 2018-01-01, city: Brussels)'><pre>  4.09383</pre></td></tr><tr><th style='border-right-style:solid;border-right-width:1px;' title='date'>2018-01-02</th><td style='font-family:monospace;' title='(date: 2018-01-02, city: Paris)'><pre>  1.02968</pre></td><td style='font-family:monospace;' title='(date: 2018-01-02, city: Brussels)'><pre>  2.18372</pre></td></tr><tr><th style='border-right-style:solid;border-right-width:1px;' title='date'>2018-01-03</th><td style='font-family:monospace;' title='(date: 2018-01-03, city: Paris)'><pre>      N/A</pre></td><td style='font-family:monospace;' title='(date: 2018-01-03, city: Brussels)'><pre>0.0492986</pre></td></tr><tr><th style='border-right-style:solid;border-right-width:1px;' title='date'>2018-01-04</th><td style='font-family:monospace;' title='(date: 2018-01-04, city: Paris)'><pre>  11.5321</pre></td><td style='font-family:monospace;' title='(date: 2018-01-04, city: Brussels)'><pre>  1.42482</pre></td></tr><tr><th style='border-right-style:solid;border-right-width:1px;' title='date'>2018-01-05</th><td style='font-family:monospace;' title='(date: 2018-01-05, city: Paris)'><pre>  3.01599</pre></td><td style='font-family:monospace;' title='(date: 2018-01-05, city: Brussels)'><pre>  5.51297</pre></td></tr><tr><th style='border-right-style:solid;border-right-width:1px;' title='date'>2018-01-06</th><td style='font-family:monospace;' title='(date: 2018-01-06, city: Paris)'><pre>    27.11</pre></td><td style='font-family:monospace;' title='(date: 2018-01-06, city: Brussels)'><pre>  19.0808</pre></td></tr></tbody></table>"
      ]
     },
     "execution_count": 15,
     "metadata": {},
     "output_type": "execute_result"
    }
   ],
   "source": [
    "perceived_temperature"
   ]
  },
  {
   "cell_type": "markdown",
   "metadata": {},
   "source": [
    "## Variable with 3D data"
   ]
  },
  {
   "cell_type": "code",
   "execution_count": 16,
   "metadata": {},
   "outputs": [],
   "source": [
    "data_type pressure_data = {{{ 1.,  2., 3. },\n",
    "                            { 4.,  5., 6. },\n",
    "                            { 7.,  8., 9. }},\n",
    "                           {{ 1.3, 1.5, 1.},\n",
    "                            { 2., 2.3, 2.4},\n",
    "                            { 3.1, 3.8, 3.}},\n",
    "                           {{ 8.5, 8.2, 8.6},\n",
    "                            { 7.5, 8.6, 9.7},\n",
    "                            { 4.5, 4.4, 4.3}}};"
   ]
  },
  {
   "cell_type": "code",
   "execution_count": 17,
   "metadata": {},
   "outputs": [],
   "source": [
    "auto pressure = variable_type(\n",
    "    pressure_data,\n",
    "    {\n",
    "        {\"x\", xf::axis(3)},\n",
    "        {\"y\", xf::axis(3, 6, 1)},\n",
    "        {\"z\", xf::axis(3)},\n",
    "    }\n",
    ");"
   ]
  },
  {
   "cell_type": "code",
   "execution_count": 18,
   "metadata": {},
   "outputs": [
    {
     "data": {
      "text/html": [
       "<table style='border-style:solid;border-width:1px;'><thead><th></th><th></th><th title='z'>0</th><th title='z'>1</th><th title='z'>2</th></thead><tbody><tr><th title='x' scope='rowgroup' rowspan='3'>0</th><th style='border-right-style:solid;border-right-width:1px;' title='y'>3</th><td style='font-family:monospace;' title='(x: 0, y: 3, z: 0)'><pre>  1</pre></td><td style='font-family:monospace;' title='(x: 0, y: 3, z: 1)'><pre>  2</pre></td><td style='font-family:monospace;' title='(x: 0, y: 3, z: 2)'><pre>  3</pre></td></tr><tr><th style='border-right-style:solid;border-right-width:1px;' title='y'>4</th><td style='font-family:monospace;' title='(x: 0, y: 4, z: 0)'><pre>  4</pre></td><td style='font-family:monospace;' title='(x: 0, y: 4, z: 1)'><pre>  5</pre></td><td style='font-family:monospace;' title='(x: 0, y: 4, z: 2)'><pre>  6</pre></td></tr><tr><th style='border-right-style:solid;border-right-width:1px;' title='y'>5</th><td style='font-family:monospace;' title='(x: 0, y: 5, z: 0)'><pre>  7</pre></td><td style='font-family:monospace;' title='(x: 0, y: 5, z: 1)'><pre>  8</pre></td><td style='font-family:monospace;' title='(x: 0, y: 5, z: 2)'><pre>  9</pre></td></tr><tr><th title='x' scope='rowgroup' rowspan='3'>1</th><th style='border-right-style:solid;border-right-width:1px;' title='y'>3</th><td style='font-family:monospace;' title='(x: 1, y: 3, z: 0)'><pre>1.3</pre></td><td style='font-family:monospace;' title='(x: 1, y: 3, z: 1)'><pre>1.5</pre></td><td style='font-family:monospace;' title='(x: 1, y: 3, z: 2)'><pre>  1</pre></td></tr><tr><th style='border-right-style:solid;border-right-width:1px;' title='y'>4</th><td style='font-family:monospace;' title='(x: 1, y: 4, z: 0)'><pre>  2</pre></td><td style='font-family:monospace;' title='(x: 1, y: 4, z: 1)'><pre>2.3</pre></td><td style='font-family:monospace;' title='(x: 1, y: 4, z: 2)'><pre>2.4</pre></td></tr><tr><th style='border-right-style:solid;border-right-width:1px;' title='y'>5</th><td style='font-family:monospace;' title='(x: 1, y: 5, z: 0)'><pre>3.1</pre></td><td style='font-family:monospace;' title='(x: 1, y: 5, z: 1)'><pre>3.8</pre></td><td style='font-family:monospace;' title='(x: 1, y: 5, z: 2)'><pre>  3</pre></td></tr><tr><th title='x' scope='rowgroup' rowspan='3'>2</th><th style='border-right-style:solid;border-right-width:1px;' title='y'>3</th><td style='font-family:monospace;' title='(x: 2, y: 3, z: 0)'><pre>8.5</pre></td><td style='font-family:monospace;' title='(x: 2, y: 3, z: 1)'><pre>8.2</pre></td><td style='font-family:monospace;' title='(x: 2, y: 3, z: 2)'><pre>8.6</pre></td></tr><tr><th style='border-right-style:solid;border-right-width:1px;' title='y'>4</th><td style='font-family:monospace;' title='(x: 2, y: 4, z: 0)'><pre>7.5</pre></td><td style='font-family:monospace;' title='(x: 2, y: 4, z: 1)'><pre>8.6</pre></td><td style='font-family:monospace;' title='(x: 2, y: 4, z: 2)'><pre>9.7</pre></td></tr><tr><th style='border-right-style:solid;border-right-width:1px;' title='y'>5</th><td style='font-family:monospace;' title='(x: 2, y: 5, z: 0)'><pre>4.5</pre></td><td style='font-family:monospace;' title='(x: 2, y: 5, z: 1)'><pre>4.4</pre></td><td style='font-family:monospace;' title='(x: 2, y: 5, z: 2)'><pre>4.3</pre></td></tr></tbody></table>"
      ]
     },
     "execution_count": 18,
     "metadata": {},
     "output_type": "execute_result"
    }
   ],
   "source": [
    "pressure"
   ]
  },
  {
   "cell_type": "code",
   "execution_count": 19,
   "metadata": {},
   "outputs": [
    {
     "data": {
      "text/plain": [
       "2.3"
      ]
     },
     "execution_count": 19,
     "metadata": {},
     "output_type": "execute_result"
    }
   ],
   "source": [
    "pressure.select({{\"x\", 1}, {\"y\", 4}, {\"z\", 1}})"
   ]
  },
  {
   "cell_type": "code",
   "execution_count": 20,
   "metadata": {},
   "outputs": [
    {
     "data": {
      "text/plain": [
       "9"
      ]
     },
     "execution_count": 20,
     "metadata": {},
     "output_type": "execute_result"
    }
   ],
   "source": [
    "pressure.locate(0, 5, 2)"
   ]
  },
  {
   "cell_type": "code",
   "execution_count": 21,
   "metadata": {},
   "outputs": [],
   "source": [
    "auto masked_pressure = xf::where(\n",
    "    pressure, \n",
    "    not_equal(pressure.axis<int>(\"x\"), 2) && pressure.axis<int>(\"z\") < 2\n",
    ");"
   ]
  },
  {
   "cell_type": "code",
   "execution_count": 22,
   "metadata": {},
   "outputs": [
    {
     "data": {
      "text/html": [
       "<table style='border-style:solid;border-width:1px;'><thead><th></th><th></th><th title='z'>0</th><th title='z'>1</th><th title='z'>2</th></thead><tbody><tr><th title='x' scope='rowgroup' rowspan='3'>0</th><th style='border-right-style:solid;border-right-width:1px;' title='y'>3</th><td style='font-family:monospace;' title='(x: 0, y: 3, z: 0)'><pre>  1</pre></td><td style='font-family:monospace;' title='(x: 0, y: 3, z: 1)'><pre>  2</pre></td><td style='font-family:monospace;' title='(x: 0, y: 3, z: 2)'><pre>N/A</pre></td></tr><tr><th style='border-right-style:solid;border-right-width:1px;' title='y'>4</th><td style='font-family:monospace;' title='(x: 0, y: 4, z: 0)'><pre>  4</pre></td><td style='font-family:monospace;' title='(x: 0, y: 4, z: 1)'><pre>  5</pre></td><td style='font-family:monospace;' title='(x: 0, y: 4, z: 2)'><pre>N/A</pre></td></tr><tr><th style='border-right-style:solid;border-right-width:1px;' title='y'>5</th><td style='font-family:monospace;' title='(x: 0, y: 5, z: 0)'><pre>  7</pre></td><td style='font-family:monospace;' title='(x: 0, y: 5, z: 1)'><pre>  8</pre></td><td style='font-family:monospace;' title='(x: 0, y: 5, z: 2)'><pre>N/A</pre></td></tr><tr><th title='x' scope='rowgroup' rowspan='3'>1</th><th style='border-right-style:solid;border-right-width:1px;' title='y'>3</th><td style='font-family:monospace;' title='(x: 1, y: 3, z: 0)'><pre>1.3</pre></td><td style='font-family:monospace;' title='(x: 1, y: 3, z: 1)'><pre>1.5</pre></td><td style='font-family:monospace;' title='(x: 1, y: 3, z: 2)'><pre>N/A</pre></td></tr><tr><th style='border-right-style:solid;border-right-width:1px;' title='y'>4</th><td style='font-family:monospace;' title='(x: 1, y: 4, z: 0)'><pre>  2</pre></td><td style='font-family:monospace;' title='(x: 1, y: 4, z: 1)'><pre>2.3</pre></td><td style='font-family:monospace;' title='(x: 1, y: 4, z: 2)'><pre>N/A</pre></td></tr><tr><th style='border-right-style:solid;border-right-width:1px;' title='y'>5</th><td style='font-family:monospace;' title='(x: 1, y: 5, z: 0)'><pre>3.1</pre></td><td style='font-family:monospace;' title='(x: 1, y: 5, z: 1)'><pre>3.8</pre></td><td style='font-family:monospace;' title='(x: 1, y: 5, z: 2)'><pre>N/A</pre></td></tr><tr><th title='x' scope='rowgroup' rowspan='3'>2</th><th style='border-right-style:solid;border-right-width:1px;' title='y'>3</th><td style='font-family:monospace;' title='(x: 2, y: 3, z: 0)'><pre>N/A</pre></td><td style='font-family:monospace;' title='(x: 2, y: 3, z: 1)'><pre>N/A</pre></td><td style='font-family:monospace;' title='(x: 2, y: 3, z: 2)'><pre>N/A</pre></td></tr><tr><th style='border-right-style:solid;border-right-width:1px;' title='y'>4</th><td style='font-family:monospace;' title='(x: 2, y: 4, z: 0)'><pre>N/A</pre></td><td style='font-family:monospace;' title='(x: 2, y: 4, z: 1)'><pre>N/A</pre></td><td style='font-family:monospace;' title='(x: 2, y: 4, z: 2)'><pre>N/A</pre></td></tr><tr><th style='border-right-style:solid;border-right-width:1px;' title='y'>5</th><td style='font-family:monospace;' title='(x: 2, y: 5, z: 0)'><pre>N/A</pre></td><td style='font-family:monospace;' title='(x: 2, y: 5, z: 1)'><pre>N/A</pre></td><td style='font-family:monospace;' title='(x: 2, y: 5, z: 2)'><pre>N/A</pre></td></tr></tbody></table>"
      ]
     },
     "execution_count": 22,
     "metadata": {},
     "output_type": "execute_result"
    }
   ],
   "source": [
    "masked_pressure"
   ]
  }
 ],
 "metadata": {
  "kernelspec": {
   "display_name": "C++14",
   "language": "C++14",
   "name": "xeus-cling-cpp14"
  },
  "language_info": {
   "codemirror_mode": "text/x-c++src",
   "file_extension": ".cpp",
   "mimetype": "text/x-c++src",
   "name": "c++",
   "version": "-std=c++14"
  }
 },
 "nbformat": 4,
 "nbformat_minor": 2
}
